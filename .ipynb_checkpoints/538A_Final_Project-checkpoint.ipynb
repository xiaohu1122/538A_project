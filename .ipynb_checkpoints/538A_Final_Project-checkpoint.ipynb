{
 "cells": [
  {
   "cell_type": "markdown",
   "id": "2b721c67-dc04-4fa9-a384-8cd96bc33f63",
   "metadata": {},
   "source": [
    "# Seoul Bike Sharing Demand Analysis"
   ]
  },
  {
   "cell_type": "markdown",
   "id": "ad04815f-d114-48db-ae67-9fe52e409fa3",
   "metadata": {},
   "source": [
    "**Group 2: Xiao Hu, Vinky Wang, Izzy Zhang**"
   ]
  },
  {
   "cell_type": "markdown",
   "id": "78e5682d-2fd1-465d-a136-1af14fe022ee",
   "metadata": {},
   "source": [
    "## 1. Introduction"
   ]
  },
  {
   "cell_type": "markdown",
   "id": "1a3daa9f-16b8-427c-aa3e-ef71169875b1",
   "metadata": {},
   "source": [
    "### 1.1 Motivation"
   ]
  },
  {
   "cell_type": "markdown",
   "id": "f942b157-cf7a-41fd-a878-fd67abe7dcf4",
   "metadata": {},
   "source": [
    "### 1.2 Dataset Description"
   ]
  },
  {
   "cell_type": "code",
   "execution_count": null,
   "id": "d23380b7-90d5-4505-bc5f-5d608ff30e93",
   "metadata": {},
   "outputs": [
    {
     "name": "stderr",
     "output_type": "stream",
     "text": [
      "also installing the dependencies ‘Matrix’, ‘SparseM’, ‘MatrixModels’, ‘boot’, ‘minqa’, ‘nloptr’, ‘RcppEigen’, ‘carData’, ‘abind’, ‘pbkrtest’, ‘quantreg’, ‘lme4’\n",
      "\n",
      "\n"
     ]
    }
   ],
   "source": [
    "install.packages(\"car\")"
   ]
  },
  {
   "cell_type": "code",
   "execution_count": null,
   "id": "3c4f682f-0a04-492f-b826-29f4dbd66e21",
   "metadata": {},
   "outputs": [],
   "source": [
    "# Load packages\n",
    "library(tidyverse)\n",
    "library(lubridate)\n",
    "library(corrplot)\n",
    "library(car)\n",
    "library(repr)\n",
    "library(broom)\n",
    "library(MASS)\n",
    "library(rsample)\n",
    "library(DHARMa)\n",
    "library(AER)"
   ]
  },
  {
   "cell_type": "code",
   "execution_count": null,
   "id": "9e7c9524-7331-4574-a1a6-b6eb879f6b2a",
   "metadata": {},
   "outputs": [],
   "source": [
    "# Load data\n",
    "url = \"https://archive.ics.uci.edu/ml/machine-learning-databases/00560/SeoulBikeData.csv\"\n",
    "bike = read.csv(url,check.names=F)"
   ]
  },
  {
   "cell_type": "markdown",
   "id": "7bd6e929-ca19-4daf-831b-a6c73c6110b9",
   "metadata": {},
   "source": [
    "## 2. Methods and Results"
   ]
  },
  {
   "cell_type": "markdown",
   "id": "e498d108-fa8f-4dd2-b391-042dc6c09795",
   "metadata": {},
   "source": [
    "### 2.1 Exploratory Data Analysis"
   ]
  },
  {
   "cell_type": "markdown",
   "id": "7426cecb-4632-4348-90bc-0ca72f5dbe85",
   "metadata": {},
   "source": [
    "#### 2.1.1 Data Cleaning"
   ]
  },
  {
   "cell_type": "code",
   "execution_count": null,
   "id": "491a6957-b8d6-4b81-9bbf-7070308714d0",
   "metadata": {},
   "outputs": [],
   "source": [
    "# Rename columns\n",
    "colnames(bike) <- c(\"date\", \"count\", \"hour\", \"temp\", \"humidity\", \"windspeed\", \"visibility\", \"dew\", \"solar\", \"rain\", \"snow\", \"seasons\", \"holiday\", \"functioning\")\n",
    "\n",
    "# Convert variable into different classes\n",
    "bike <- bike %>%\n",
    "  mutate(date = as.POSIXct(date, format = \"%d/%m/%Y\"), # date\n",
    "         month =  factor(months(date)),      # add months variable\n",
    "         seasons = factor(seasons), # factor\n",
    "         holiday = factor(holiday), # factor\n",
    "         functioning = factor(functioning)) # factor"
   ]
  },
  {
   "cell_type": "markdown",
   "id": "f460fd82-1802-47d8-a3ae-d9557e5bc373",
   "metadata": {},
   "source": [
    "We noticed that count becomes zero when `functioning == \"No\"`. So we proceeded with removing all rows when the bike sharing system is not functioning and the `functioning` column. "
   ]
  },
  {
   "cell_type": "code",
   "execution_count": null,
   "id": "e9f8575e-2f70-4916-a286-8af3256277ce",
   "metadata": {},
   "outputs": [],
   "source": [
    "## remove functioning == \"No\" rows from the dataset. \n",
    "bike <- bike[which(bike$functioning == \"Yes\"),]\n",
    "bike <- subset(bike, select = -functioning)"
   ]
  },
  {
   "cell_type": "markdown",
   "id": "b8914b6c-7738-4901-9a22-342ad09b2dfb",
   "metadata": {},
   "source": [
    "We are also removing the `date` column since we do not plan to do time series analysis. "
   ]
  },
  {
   "cell_type": "code",
   "execution_count": null,
   "id": "f9584587-502b-4723-9eb6-84ff9709bc2c",
   "metadata": {
    "tags": []
   },
   "outputs": [],
   "source": [
    "bike <- subset(bike, select = -date)\n",
    "head(bike)"
   ]
  },
  {
   "cell_type": "markdown",
   "id": "1b0cca4f-5885-4ec5-bdc9-8bb19f44117d",
   "metadata": {},
   "source": [
    "After cleaning the data, we split the dataframe into training and testing for further analyses. We chose a proportion of 70/30. "
   ]
  },
  {
   "cell_type": "code",
   "execution_count": null,
   "id": "0dda5021-de8b-41c8-9116-6b6c609332fe",
   "metadata": {},
   "outputs": [],
   "source": [
    "set.seed(34567)\n",
    "bike_split <- initial_split(bike, prop = 0.7)\n",
    "bike_training <- training(bike_split)\n",
    "bike_testing <- testing(bike_split)"
   ]
  },
  {
   "cell_type": "markdown",
   "id": "ba69f20b-e4d1-44f0-ba94-0fec9876f6a2",
   "metadata": {},
   "source": [
    "#### 2.1.2 Multi-collinearity\n",
    "We have tested for multi-collinearity in the whole dataset in our proposal. Now we will identify variables in the training set that are correlated with one another and select a subset of the dataset that minimizes multicollinearity. "
   ]
  },
  {
   "cell_type": "code",
   "execution_count": null,
   "id": "b6423632-7c16-42bd-abcb-77017209ec9a",
   "metadata": {},
   "outputs": [],
   "source": [
    "# Select only numeric environmental variables\n",
    "bike_var <- bike_training %>%\n",
    "  dplyr::select(c(temp, humidity, windspeed, visibility, dew, solar, rain, snow))\n",
    "\n",
    "# Correlation matrix\n",
    "cor_matrix <- cor(bike_var)\n",
    "cor_matrix\n",
    "\n",
    "# Correlation plot\n",
    "corrplot(cor_matrix, use = \"complete.obs\", method=\"circle\")"
   ]
  },
  {
   "cell_type": "markdown",
   "id": "623aab9f-f892-4d0f-b3b5-158daca98465",
   "metadata": {},
   "source": [
    "We see from the correlation plot a strong positive correlation between `dew` and `temp`, a relatively strong positive correlation between `dew` and `humidity`, a strong negative correlation between `visibility` and `humidity`, and a relatively strong negative correlation between `solar` and `humidity`. \n",
    "\n",
    "We proceed to test the observations above using variance inflation factors (VIF). "
   ]
  },
  {
   "cell_type": "code",
   "execution_count": null,
   "id": "2663a4de-adb0-49b8-a02d-ff26de460a51",
   "metadata": {},
   "outputs": [],
   "source": [
    "# Variance inflation factor selection with all numerical variables\n",
    "model_vif1 <- glm(count~ temp + humidity + windspeed + visibility + dew + solar + rain + snow, data = bike_training,family = poisson)\n",
    "vif(model_vif1)"
   ]
  },
  {
   "cell_type": "markdown",
   "id": "beb6d892-c7d7-494e-a432-79aea518da3d",
   "metadata": {},
   "source": [
    "We see that `temp`, `humidity` and `dew` have VIFs larger than 5, suggesting high correlation with other variables. We start by removing `dew`, which has the highest VIF. "
   ]
  },
  {
   "cell_type": "code",
   "execution_count": null,
   "id": "43e5c597-df05-4ba8-9eb0-0d706665fa7b",
   "metadata": {},
   "outputs": [],
   "source": [
    "## remove dew variable\n",
    "model_vif2 <- glm(count~ temp + humidity + windspeed + visibility + solar + rain + snow, data = bike_training,family = poisson)\n",
    "vif(model_vif2)"
   ]
  },
  {
   "cell_type": "markdown",
   "id": "6a8fff79-4cfa-4167-8d53-3f2445199ca9",
   "metadata": {},
   "source": [
    "All VIFs are now lower than 5. We can then remove `dew` from our testing set and continue with model fitting. "
   ]
  },
  {
   "cell_type": "code",
   "execution_count": null,
   "id": "8a4a2756-fa1e-4af9-97dc-e1889624e349",
   "metadata": {},
   "outputs": [],
   "source": [
    "bike_training <- subset(bike_training, select = -dew)\n",
    "head(bike_training)"
   ]
  },
  {
   "cell_type": "markdown",
   "id": "823ddf3a-5592-462b-9dcc-a63604587767",
   "metadata": {},
   "source": [
    "### 2.2 Model Selection"
   ]
  },
  {
   "cell_type": "markdown",
   "id": "67fc0983",
   "metadata": {},
   "source": [
    "#### Poisson Regression"
   ]
  },
  {
   "cell_type": "markdown",
   "id": "3e9786d6",
   "metadata": {},
   "source": [
    "Since the response variable of bike rentals correspond to count data, we will first fit a full Poisson model with all variables in the data and evaluate its performance. \n",
    "\n",
    "$$\n",
    "P(Y_i = y_i, \\lambda_i, \\theta) = \\frac{\\lambda_i^{y_i}}{y_i!} e^{-\\lambda_i}  \\quad \\text{for} \\  y_i \\in \\{0, 1, \\cdots \\}$$\n",
    "\n",
    "Then:\n",
    "\n",
    "$$E[Y_i]= \\lambda_i$$\n",
    "\n",
    "and \n",
    "\n",
    "$$V[Y_i] = \\lambda_i$$"
   ]
  },
  {
   "cell_type": "markdown",
   "id": "85851ad2",
   "metadata": {},
   "source": [
    "Let's explore the distribution of bike rentals. "
   ]
  },
  {
   "cell_type": "code",
   "execution_count": null,
   "id": "3a812791",
   "metadata": {},
   "outputs": [],
   "source": [
    "hist(bike$count, freq=FALSE, col=grey(0.5), ylim=c(0, 0.02), main=\"Histogram of Bike Counts\", xlab=\"Bike counts\")\n",
    "  lines(0:max(bike$count), dpois(0:max(bike$count), mean(bike$count)), col=\"hotpink\")"
   ]
  },
  {
   "cell_type": "markdown",
   "id": "8f8db773",
   "metadata": {},
   "source": [
    "It appears that the pink line corresponding to a Poisson density with mean equal to that of the observed bike counts places more probability mass around 750 bike rentals whereas most of the actual observed bike counts are around 250 and under. This may be an early indication that the Poisson distribution is not appropriate for the dataset. "
   ]
  },
  {
   "cell_type": "markdown",
   "id": "ac968c09",
   "metadata": {},
   "source": [
    "We will proceed to fitting a Poisson distribution and check for further indications. "
   ]
  },
  {
   "cell_type": "code",
   "execution_count": null,
   "id": "fa5a3379",
   "metadata": {},
   "outputs": [],
   "source": [
    "poisson_model <- glm(formula = count~hour + temp + humidity + windspeed + visibility + solar + snow + seasons + holiday+month,\n",
    "                     family = \"poisson\",\n",
    "                     data = bike_training)\n",
    "tidy(poisson_model)\n",
    "glance(poisson_model)"
   ]
  },
  {
   "cell_type": "code",
   "execution_count": null,
   "id": "d8388f52",
   "metadata": {},
   "outputs": [],
   "source": [
    "deviance(poisson_model)/poisson_model$df.residual\n",
    "dispersiontest(poisson_model)"
   ]
  },
  {
   "cell_type": "markdown",
   "id": "fd9f81ea",
   "metadata": {},
   "source": [
    "The `residual deviance/df` is greater than 1 which suggests overdispersion. We can also use the `dispersiontest` from the `AER` package which tests the null hypothesis of equal mean and variance (i.e. equidispersion) against the alternative hypothesis $V[Y_i] = \\lambda_i + c*f(\\lambda_i)$ where the constant $c<0$ corresponds to underdispersion and $c>0$ corresponds to overdispersion. Effectively, this is testing $H_0: c = 0$ versus $H_1: c \\neq 0$ using the t-statistic. Since the $c$ is estimated to be 200.87 and p-value < 0.05, this suggests evidence of overdispersion."
   ]
  },
  {
   "cell_type": "code",
   "execution_count": null,
   "id": "6b121880",
   "metadata": {},
   "outputs": [],
   "source": [
    " # Residual plots\n",
    "{options(repr.plot.width=20, repr.plot.height=10)\n",
    "par(mfrow=c(1,2))\n",
    "poisson_res <- residuals(poisson_model, type=\"deviance\")\n",
    "plot(predict(poisson_model), poisson_res)\n",
    "abline(h=0, lty=2)\n",
    "qqnorm(poisson_res)\n",
    "qqline(poisson_res)\n",
    "}"
   ]
  },
  {
   "cell_type": "markdown",
   "id": "007baed2",
   "metadata": {},
   "source": [
    "Furthermore, there appears to be funnel-like pattern in the reisduals which suggest that the Poisson distribution is not appropriate for this dataset. "
   ]
  },
  {
   "cell_type": "markdown",
   "id": "10e6a1c5",
   "metadata": {},
   "source": [
    "#### Negative Binomial Regression"
   ]
  },
  {
   "cell_type": "markdown",
   "id": "4ff86f06",
   "metadata": {},
   "source": [
    "To account for extra dispersion in Poisson models, we will use the **Negative Binomial** distribution instead of the Poisson distribution.\n",
    "\n",
    "$$P(Y_i = y_i, \\lambda_i, \\theta) = \\frac{\\Gamma(\\theta + y_i)}{\\Gamma(y_i +1)\\Gamma(\\theta)} \n",
    "\\left (\\frac{\\theta}{\\theta + \\lambda_i}\\right)^{\\theta}  \\left (\\frac{\\lambda_i}{\\theta + \\lambda_i}\\right)^{y_i}$$\n",
    "\n",
    "Then:\n",
    "\n",
    "$$E[Y_i]= \\lambda_i$$\n",
    "\n",
    "and \n",
    "\n",
    "$$V[Y_i] = \\lambda_i + \\lambda_i^2/\\theta$$\n",
    "\n",
    "Like Poisson, the negative binomial regression can be used to fit counts data. Morrover, the negative binomial model can be used when the variance of data is substancially higher than the mean. The overdispersion with respect to the Poisson distribution in this case is given by $\\lambda_i^2/\\theta$, which approaches 0 as $\\theta$ increases."
   ]
  },
  {
   "cell_type": "markdown",
   "id": "35a8c7a3",
   "metadata": {},
   "source": [
    "We first fit a full negative binomial model with all variables in the data."
   ]
  },
  {
   "cell_type": "code",
   "execution_count": null,
   "id": "b3a241bb",
   "metadata": {},
   "outputs": [],
   "source": [
    "nbinomial_model <- glm.nb(\n",
    "  formula = count~hour + temp + humidity + windspeed + visibility + solar + snow + seasons + holiday+month,\n",
    "  data = bike_training\n",
    ")\n",
    "tidy(nbinomial_model)\n",
    "glance(nbinomial_model)"
   ]
  },
  {
   "cell_type": "code",
   "execution_count": null,
   "id": "e90fda6c",
   "metadata": {},
   "outputs": [],
   "source": [
    "# Goodness-of-fit test\n",
    "gof.pvalue = 1 - pchisq(nbinomial_model$deviance, nbinomial_model$df.residual)\n",
    "print(paste0(\"p-value of LRT: \", round(gof.pvalue,4)))"
   ]
  },
  {
   "cell_type": "markdown",
   "id": "b0ff32b5",
   "metadata": {},
   "source": [
    "The likelihood ratio test comparing the \"saturated model\" vs. the current model shows a p-value smaller than 0.05, which means there remains a significant lack of fit."
   ]
  },
  {
   "cell_type": "code",
   "execution_count": null,
   "id": "66f587ee",
   "metadata": {},
   "outputs": [],
   "source": [
    "# Dispersion\n",
    "dis <- nbinomial_model$theta\n",
    "print(paste0(\"Dispersion parameter: \", round(dis,2)))"
   ]
  },
  {
   "cell_type": "markdown",
   "id": "009c05fb",
   "metadata": {},
   "source": [
    "The overdispersion parameter with respect to the Poisson distribution is 2.39."
   ]
  },
  {
   "cell_type": "markdown",
   "id": "39d1f0da",
   "metadata": {},
   "source": [
    "We then use backward selection method to select an optimal subset of variables which minimizes the value of AIC."
   ]
  },
  {
   "cell_type": "code",
   "execution_count": null,
   "id": "d6b789b3",
   "metadata": {},
   "outputs": [],
   "source": [
    "# AIC stepwise selection\n",
    "AIC_nbinomial_model <- stepAIC(nbinomial_model, k = log(nrow(bike_training)),\n",
    "                                  direction = \"backward\", trace = 1)"
   ]
  },
  {
   "cell_type": "markdown",
   "id": "eb050cb6",
   "metadata": {},
   "source": [
    "Variables selected by AIC stepwise selection are: hour, temp, humidity, solar, snow, holiday, month"
   ]
  },
  {
   "cell_type": "code",
   "execution_count": null,
   "id": "0bece7ec",
   "metadata": {},
   "outputs": [],
   "source": [
    "tidy(AIC_nbinomial_model)"
   ]
  },
  {
   "cell_type": "markdown",
   "id": "2cd15e0f",
   "metadata": {},
   "source": [
    "After getting the best reduced model, we will use the residual v.s prediction plot and QQ plot to diagnose the reduced model."
   ]
  },
  {
   "cell_type": "code",
   "execution_count": null,
   "id": "04cea7d4",
   "metadata": {},
   "outputs": [],
   "source": [
    "options(repr.plot.width=20, repr.plot.height=10)\n",
    "par(mfrow=c(1,2))\n",
    "res <- residuals(AIC_nbinomial_model, type=\"deviance\")\n",
    "pred <- predict(AIC_nbinomial_model)\n",
    "plot(pred, res)\n",
    "abline(h=0, lty=2)\n",
    "qqnorm(res)\n",
    "qqline(res)"
   ]
  },
  {
   "cell_type": "code",
   "execution_count": null,
   "id": "a3da7703",
   "metadata": {},
   "outputs": [],
   "source": [
    "n_sim <- 250\n",
    "simulationOutput <- simulateResiduals(fittedModel = AIC_nbinomial_model, n = n_sim)\n",
    "plot(simulationOutput, asFactor = F)"
   ]
  },
  {
   "cell_type": "markdown",
   "id": "834e7357",
   "metadata": {},
   "source": [
    "##### Compare full model and reduced model"
   ]
  },
  {
   "cell_type": "code",
   "execution_count": null,
   "id": "c1a6d755",
   "metadata": {},
   "outputs": [],
   "source": [
    "t <- as.data.frame(rbind(glance(nbinomial_model),glance(AIC_nbinomial_model)))\n",
    "rownames(t) <- c(\"nbinomial\",\"AIC_nbinomial\")\n",
    "t  %>% dplyr::select(-c(df.residual,nobs,df.null))  %>% \n",
    "        mutate(n_coef = c(length(coef(nbinomial_model)),length(coef(AIC_nbinomial_model)))) %>% \n",
    "        mutate(overdispersion = c(nbinomial_model$theta,AIC_nbinomial_model$theta)) #%>% \n",
    "       # mutate(gof.pvalue = c(1 - pchisq(nbinomial_model$deviance, nbinomial_model$df.residual),\n",
    "       #                      1 - pchisq(AIC_nbinomial_model$deviance, AIC_nbinomial_model$df.residual)))"
   ]
  },
  {
   "cell_type": "code",
   "execution_count": null,
   "id": "d7affd2b",
   "metadata": {},
   "outputs": [],
   "source": [
    "anova(nbinomial_model,AIC_nbinomial_model)"
   ]
  },
  {
   "cell_type": "markdown",
   "id": "445f34f1",
   "metadata": {},
   "source": [
    "There are only 18 coefficients in the reduced model. Overdispersion parameter in the reduced model is slightly lower than that in the full model, which implies larger dispersion with respect to Poisson regression. P-value of likelihood ratio test between full model and reduced model is smaller than 0.05, which indicates that the reduced model selected by AIC is significantly better than the full model under 5% significance level."
   ]
  },
  {
   "cell_type": "markdown",
   "id": "a14d634f-424a-48cf-a772-c0bdc6623a92",
   "metadata": {},
   "source": [
    "### 2.3 Model Evaluation"
   ]
  },
  {
   "cell_type": "markdown",
   "id": "1b7d1f81-3698-4bc8-922c-09791461a7e2",
   "metadata": {},
   "source": [
    "## 3. Discussion"
   ]
  },
  {
   "cell_type": "markdown",
   "id": "a4d2f557-2557-4ac8-b8df-8b3d32f32d4e",
   "metadata": {},
   "source": [
    "## 4. References"
   ]
  },
  {
   "cell_type": "code",
   "execution_count": null,
   "id": "9c4d12bc",
   "metadata": {},
   "outputs": [],
   "source": []
  }
 ],
 "metadata": {
  "kernelspec": {
   "display_name": "R",
   "language": "R",
   "name": "ir"
  },
  "language_info": {
   "codemirror_mode": "r",
   "file_extension": ".r",
   "mimetype": "text/x-r-source",
   "name": "R",
   "pygments_lexer": "r",
   "version": "4.1.3"
  }
 },
 "nbformat": 4,
 "nbformat_minor": 5
}
