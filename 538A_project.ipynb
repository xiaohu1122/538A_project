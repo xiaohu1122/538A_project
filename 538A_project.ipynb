{
 "cells": [
  {
   "cell_type": "markdown",
   "id": "3d865392",
   "metadata": {},
   "source": [
    "# Seoul Bike Sharing Demand Analysis"
   ]
  },
  {
   "cell_type": "markdown",
   "id": "f7c49fac",
   "metadata": {},
   "source": [
    "**Group 2: Xiao Hu, Vincky Wang, Izzy Zhang**"
   ]
  },
  {
   "cell_type": "markdown",
   "id": "d1052558",
   "metadata": {},
   "source": [
    "## Introduction"
   ]
  },
  {
   "cell_type": "markdown",
   "id": "d8e24670",
   "metadata": {},
   "source": [
    "## Preliminary Results"
   ]
  },
  {
   "cell_type": "code",
   "execution_count": 1,
   "id": "4a0c1cb8",
   "metadata": {},
   "outputs": [
    {
     "name": "stderr",
     "output_type": "stream",
     "text": [
      "── \u001b[1mAttaching packages\u001b[22m ─────────────────────────────────────── tidyverse 1.3.1 ──\n",
      "\n",
      "\u001b[32m✔\u001b[39m \u001b[34mggplot2\u001b[39m 3.3.5     \u001b[32m✔\u001b[39m \u001b[34mpurrr  \u001b[39m 0.3.4\n",
      "\u001b[32m✔\u001b[39m \u001b[34mtibble \u001b[39m 3.1.8     \u001b[32m✔\u001b[39m \u001b[34mdplyr  \u001b[39m 1.0.8\n",
      "\u001b[32m✔\u001b[39m \u001b[34mtidyr  \u001b[39m 1.2.0     \u001b[32m✔\u001b[39m \u001b[34mstringr\u001b[39m 1.4.0\n",
      "\u001b[32m✔\u001b[39m \u001b[34mreadr  \u001b[39m 2.1.2     \u001b[32m✔\u001b[39m \u001b[34mforcats\u001b[39m 0.5.1\n",
      "\n",
      "── \u001b[1mConflicts\u001b[22m ────────────────────────────────────────── tidyverse_conflicts() ──\n",
      "\u001b[31m✖\u001b[39m \u001b[34mdplyr\u001b[39m::\u001b[32mfilter()\u001b[39m masks \u001b[34mstats\u001b[39m::filter()\n",
      "\u001b[31m✖\u001b[39m \u001b[34mdplyr\u001b[39m::\u001b[32mlag()\u001b[39m    masks \u001b[34mstats\u001b[39m::lag()\n",
      "\n"
     ]
    }
   ],
   "source": [
    "library(tidyverse)"
   ]
  },
  {
   "cell_type": "code",
   "execution_count": 6,
   "id": "e37665be",
   "metadata": {},
   "outputs": [
    {
     "data": {
      "text/html": [
       "<table class=\"dataframe\">\n",
       "<caption>A data.frame: 6 × 13</caption>\n",
       "<thead>\n",
       "\t<tr><th></th><th scope=col>date</th><th scope=col>count</th><th scope=col>hour</th><th scope=col>temperature</th><th scope=col>humidity</th><th scope=col>wind_speed</th><th scope=col>visibility</th><th scope=col>dew_point_temperature</th><th scope=col>solar_radiation</th><th scope=col>rainfall</th><th scope=col>snowfall</th><th scope=col>season</th><th scope=col>holiday</th></tr>\n",
       "\t<tr><th></th><th scope=col>&lt;chr&gt;</th><th scope=col>&lt;chr&gt;</th><th scope=col>&lt;chr&gt;</th><th scope=col>&lt;chr&gt;</th><th scope=col>&lt;chr&gt;</th><th scope=col>&lt;chr&gt;</th><th scope=col>&lt;chr&gt;</th><th scope=col>&lt;chr&gt;</th><th scope=col>&lt;chr&gt;</th><th scope=col>&lt;chr&gt;</th><th scope=col>&lt;chr&gt;</th><th scope=col>&lt;chr&gt;</th><th scope=col>&lt;chr&gt;</th></tr>\n",
       "</thead>\n",
       "<tbody>\n",
       "\t<tr><th scope=row>1</th><td>01/12/2017</td><td>254</td><td>0</td><td>-5.2</td><td>37</td><td>2.2</td><td>2000</td><td>-17.6</td><td>0</td><td>0</td><td>0</td><td>Winter</td><td>No Holiday</td></tr>\n",
       "\t<tr><th scope=row>2</th><td>01/12/2017</td><td>204</td><td>1</td><td>-5.5</td><td>38</td><td>0.8</td><td>2000</td><td>-17.6</td><td>0</td><td>0</td><td>0</td><td>Winter</td><td>No Holiday</td></tr>\n",
       "\t<tr><th scope=row>3</th><td>01/12/2017</td><td>173</td><td>2</td><td>-6  </td><td>39</td><td>1  </td><td>2000</td><td>-17.7</td><td>0</td><td>0</td><td>0</td><td>Winter</td><td>No Holiday</td></tr>\n",
       "\t<tr><th scope=row>4</th><td>01/12/2017</td><td>107</td><td>3</td><td>-6.2</td><td>40</td><td>0.9</td><td>2000</td><td>-17.6</td><td>0</td><td>0</td><td>0</td><td>Winter</td><td>No Holiday</td></tr>\n",
       "\t<tr><th scope=row>5</th><td>01/12/2017</td><td>78 </td><td>4</td><td>-6  </td><td>36</td><td>2.3</td><td>2000</td><td>-18.6</td><td>0</td><td>0</td><td>0</td><td>Winter</td><td>No Holiday</td></tr>\n",
       "\t<tr><th scope=row>6</th><td>01/12/2017</td><td>100</td><td>5</td><td>-6.4</td><td>37</td><td>1.5</td><td>2000</td><td>-18.7</td><td>0</td><td>0</td><td>0</td><td>Winter</td><td>No Holiday</td></tr>\n",
       "</tbody>\n",
       "</table>\n"
      ],
      "text/latex": [
       "A data.frame: 6 × 13\n",
       "\\begin{tabular}{r|lllllllllllll}\n",
       "  & date & count & hour & temperature & humidity & wind\\_speed & visibility & dew\\_point\\_temperature & solar\\_radiation & rainfall & snowfall & season & holiday\\\\\n",
       "  & <chr> & <chr> & <chr> & <chr> & <chr> & <chr> & <chr> & <chr> & <chr> & <chr> & <chr> & <chr> & <chr>\\\\\n",
       "\\hline\n",
       "\t1 & 01/12/2017 & 254 & 0 & -5.2 & 37 & 2.2 & 2000 & -17.6 & 0 & 0 & 0 & Winter & No Holiday\\\\\n",
       "\t2 & 01/12/2017 & 204 & 1 & -5.5 & 38 & 0.8 & 2000 & -17.6 & 0 & 0 & 0 & Winter & No Holiday\\\\\n",
       "\t3 & 01/12/2017 & 173 & 2 & -6   & 39 & 1   & 2000 & -17.7 & 0 & 0 & 0 & Winter & No Holiday\\\\\n",
       "\t4 & 01/12/2017 & 107 & 3 & -6.2 & 40 & 0.9 & 2000 & -17.6 & 0 & 0 & 0 & Winter & No Holiday\\\\\n",
       "\t5 & 01/12/2017 & 78  & 4 & -6   & 36 & 2.3 & 2000 & -18.6 & 0 & 0 & 0 & Winter & No Holiday\\\\\n",
       "\t6 & 01/12/2017 & 100 & 5 & -6.4 & 37 & 1.5 & 2000 & -18.7 & 0 & 0 & 0 & Winter & No Holiday\\\\\n",
       "\\end{tabular}\n"
      ],
      "text/markdown": [
       "\n",
       "A data.frame: 6 × 13\n",
       "\n",
       "| <!--/--> | date &lt;chr&gt; | count &lt;chr&gt; | hour &lt;chr&gt; | temperature &lt;chr&gt; | humidity &lt;chr&gt; | wind_speed &lt;chr&gt; | visibility &lt;chr&gt; | dew_point_temperature &lt;chr&gt; | solar_radiation &lt;chr&gt; | rainfall &lt;chr&gt; | snowfall &lt;chr&gt; | season &lt;chr&gt; | holiday &lt;chr&gt; |\n",
       "|---|---|---|---|---|---|---|---|---|---|---|---|---|---|\n",
       "| 1 | 01/12/2017 | 254 | 0 | -5.2 | 37 | 2.2 | 2000 | -17.6 | 0 | 0 | 0 | Winter | No Holiday |\n",
       "| 2 | 01/12/2017 | 204 | 1 | -5.5 | 38 | 0.8 | 2000 | -17.6 | 0 | 0 | 0 | Winter | No Holiday |\n",
       "| 3 | 01/12/2017 | 173 | 2 | -6   | 39 | 1   | 2000 | -17.7 | 0 | 0 | 0 | Winter | No Holiday |\n",
       "| 4 | 01/12/2017 | 107 | 3 | -6.2 | 40 | 0.9 | 2000 | -17.6 | 0 | 0 | 0 | Winter | No Holiday |\n",
       "| 5 | 01/12/2017 | 78  | 4 | -6   | 36 | 2.3 | 2000 | -18.6 | 0 | 0 | 0 | Winter | No Holiday |\n",
       "| 6 | 01/12/2017 | 100 | 5 | -6.4 | 37 | 1.5 | 2000 | -18.7 | 0 | 0 | 0 | Winter | No Holiday |\n",
       "\n"
      ],
      "text/plain": [
       "  date       count hour temperature humidity wind_speed visibility\n",
       "1 01/12/2017 254   0    -5.2        37       2.2        2000      \n",
       "2 01/12/2017 204   1    -5.5        38       0.8        2000      \n",
       "3 01/12/2017 173   2    -6          39       1          2000      \n",
       "4 01/12/2017 107   3    -6.2        40       0.9        2000      \n",
       "5 01/12/2017 78    4    -6          36       2.3        2000      \n",
       "6 01/12/2017 100   5    -6.4        37       1.5        2000      \n",
       "  dew_point_temperature solar_radiation rainfall snowfall season holiday   \n",
       "1 -17.6                 0               0        0        Winter No Holiday\n",
       "2 -17.6                 0               0        0        Winter No Holiday\n",
       "3 -17.7                 0               0        0        Winter No Holiday\n",
       "4 -17.6                 0               0        0        Winter No Holiday\n",
       "5 -18.6                 0               0        0        Winter No Holiday\n",
       "6 -18.7                 0               0        0        Winter No Holiday"
      ]
     },
     "metadata": {},
     "output_type": "display_data"
    }
   ],
   "source": [
    "url = \"https://archive.ics.uci.edu/ml/machine-learning-databases/00560/SeoulBikeData.csv\"\n",
    "bikes = read.csv(url,header=FALSE)[-1,]\n",
    "colnames(bikes) = c(\"date\",\"count\",\"hour\",\"temperature\",\"humidity\",\n",
    "                    \"wind_speed\",\"visibility\",\"dew_point_temperature\",\n",
    "                    \"solar_radiation\",\"rainfall\",\"snowfall\",\"season\",\"holiday\",\"functioning\")\n",
    "bikes = bikes %>% filter(functioning == \"Yes\")  %>% select(-14)\n",
    "head(bikes)"
   ]
  },
  {
   "cell_type": "markdown",
   "id": "5e1d57f1",
   "metadata": {},
   "source": [
    "## Methods: Plan"
   ]
  },
  {
   "cell_type": "markdown",
   "id": "bde2925f",
   "metadata": {},
   "source": [
    "## References"
   ]
  }
 ],
 "metadata": {
  "kernelspec": {
   "display_name": "R",
   "language": "R",
   "name": "ir"
  },
  "language_info": {
   "codemirror_mode": "r",
   "file_extension": ".r",
   "mimetype": "text/x-r-source",
   "name": "R",
   "pygments_lexer": "r",
   "version": "4.1.3"
  }
 },
 "nbformat": 4,
 "nbformat_minor": 5
}
